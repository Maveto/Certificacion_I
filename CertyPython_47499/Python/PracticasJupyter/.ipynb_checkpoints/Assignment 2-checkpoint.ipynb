{
 "cells": [
  {
   "cell_type": "markdown",
   "metadata": {},
   "source": [
    "21. Escribir un programa que determine si el año es bisiesto. Un año es bisiesto si es múltiplo de 4 (1988), excepto los múltiplos de 100 que no son bisiestos salvo que a su vez también sean múltiplos de 400 (1800no es bisiesto, 2000 sí)."
   ]
  },
  {
   "cell_type": "code",
   "execution_count": 4,
   "metadata": {},
   "outputs": [
    {
     "name": "stdout",
     "output_type": "stream",
     "text": [
      "Año Bisiesto\n",
      "Inserte un año: 2020\n",
      "El año 2020 es bisiesto\n"
     ]
    }
   ],
   "source": [
    "print(\"Año Bisiesto\")\n",
    "a = int(input(\"Inserte un año: \"))\n",
    "if a%4==0 and (a%100!=0 or a%400==0):\n",
    "    print(f\"El año {a} es bisiesto\")\n",
    "else:\n",
    "    print(f\"El año {a} no es bisiesto\")"
   ]
  },
  {
   "cell_type": "markdown",
   "metadata": {},
   "source": [
    "22. Dado los valores de A, B, C que son los coeficientes de la ecuación de segundo grado,\n",
    "hallar sus raíces reales, desplegar los resultados."
   ]
  },
  {
   "cell_type": "code",
   "execution_count": 5,
   "metadata": {},
   "outputs": [
    {
     "name": "stdout",
     "output_type": "stream",
     "text": [
      "ECUACIÓN A X² + B X + C = 0\n",
      "Escriba el valor del coeficiente a: 12\n",
      "Escriba el valor del coeficiente b: 2\n",
      "Escriba el valor del coeficiente c: 3\n",
      "La ecuacion no tiene soluciones reales.\n"
     ]
    }
   ],
   "source": [
    "import math\n",
    "print(\"ECUACIÓN A X² + B X + C = 0\")\n",
    "a = float(input(\"Escriba el valor del coeficiente a: \"))\n",
    "b = float(input(\"Escriba el valor del coeficiente b: \"))\n",
    "c = float(input(\"Escriba el valor del coeficiente c: \"))\n",
    "t = (b**2)-(4*a*c)\n",
    "if t >= 0:\n",
    "    s1 = (-b + math.sqrt(t))/(2*a)\n",
    "    s2 = (-b - math.sqrt(t))/(2*a)\n",
    "    if s1 == s2:\n",
    "        print(f\"La ecuacion tiene una solucion: {round(s1,2)}\")\n",
    "    else:\n",
    "        print(f\"La ecuacion tiene dos soluciones: {round(s1,2)} y {round(s,2)}\")\n",
    "else:\n",
    "    print(f\"La ecuacion no tiene soluciones reales.\")"
   ]
  },
  {
   "cell_type": "markdown",
   "metadata": {},
   "source": [
    "23. Dado dos valores A y B, realizar el producto de los dos números por sumas sucesivas, almacenar el resultado en una variable P, mostrar el resultado."
   ]
  },
  {
   "cell_type": "code",
   "execution_count": 26,
   "metadata": {},
   "outputs": [
    {
     "name": "stdout",
     "output_type": "stream",
     "text": [
      "Producto\n",
      "Escriba un numero: -2\n",
      "Escriba otro numero: 3\n",
      "El producto entre -2 y 3 es: -6\n"
     ]
    }
   ],
   "source": [
    "print(\"Producto\")\n",
    "n1 = int(input(\"Escriba un numero: \"))\n",
    "n2 = int(input(\"Escriba otro numero: \"))\n",
    "p = 0\n",
    "c = 0 \n",
    "while c < abs(n2):\n",
    "    p = p + abs(n1)\n",
    "    c+=1\n",
    "    \n",
    "if (n1<0 and n2<0) :\n",
    "    print(f\"El producto entre {n1} y {n2} es: {p}\")\n",
    "elif (n1<0 or n2<0):\n",
    "    print(f\"El producto entre {n1} y {n2} es: -{p}\")\n",
    "else:\n",
    "    print(f\"El producto entre {n1} y {n2} es: {p}\")"
   ]
  },
  {
   "cell_type": "markdown",
   "metadata": {},
   "source": [
    "24. Dado un número X, determinar el número de dígitos del que esta compuesto y desplegar el resultado."
   ]
  },
  {
   "cell_type": "code",
   "execution_count": 20,
   "metadata": {},
   "outputs": [
    {
     "name": "stdout",
     "output_type": "stream",
     "text": [
      "Numero de digitos\n",
      "Escriba un numero: 32463\n",
      "el numero 32463 tiene 5 digitos\n"
     ]
    }
   ],
   "source": [
    "print(\"Numero de digitos\")\n",
    "n = int(input(\"Escriba un numero: \"))\n",
    "d = n\n",
    "c = 0\n",
    "while d >= 10:\n",
    "    c+=1\n",
    "    d = d//10\n",
    "print(f\"el numero {n} tiene {c+1} digitos\")"
   ]
  },
  {
   "cell_type": "markdown",
   "metadata": {},
   "source": [
    "25. Escribir un programa que calcule y visualice el más grande, el más pequeño y la media de N números. El valor de N se solicitará al principio del programa y los números serán introducidos por el usuario."
   ]
  },
  {
   "cell_type": "code",
   "execution_count": 31,
   "metadata": {},
   "outputs": [
    {
     "name": "stdout",
     "output_type": "stream",
     "text": [
      "Introduzca la cantidad de numeros: 10\n",
      "numero 1: 4\n",
      "numero 2: 6\n",
      "numero 3: 4\n",
      "numero 4: 3\n",
      "numero 5: 6\n",
      "numero 6: 4\n",
      "numero 7: 2\n",
      "numero 8: 46\n",
      "numero 9: 65\n",
      "numero 10: 3\n",
      "Numero mayor: 65\n",
      "Numero menor: 2\n",
      "Media: 14.3\n"
     ]
    }
   ],
   "source": [
    "n = int(input(\"Introduzca la cantidad de numeros: \"))\n",
    "cont = 1\n",
    "nums = []\n",
    "while cont<=n:\n",
    "    nums.append(int(input(f\"numero {cont}: \")))\n",
    "    cont+=1\n",
    "print(f\"Numero mayor: {max(nums)}\")\n",
    "print(f\"Numero menor: {min(nums)}\")\n",
    "print(f\"Media: {sum(nums)/len(nums)}\")"
   ]
  },
  {
   "cell_type": "markdown",
   "metadata": {},
   "source": [
    "26. Dado dos números A y B enteros mayores a cero, hallar A^B por sumas. Desplegar los números y el resultado."
   ]
  },
  {
   "cell_type": "code",
   "execution_count": 75,
   "metadata": {},
   "outputs": [
    {
     "name": "stdout",
     "output_type": "stream",
     "text": [
      "A^B\n",
      "Numero A: 8\n",
      "Numero B: 3\n",
      "8 64 512 \n",
      "EL resultado es 512\n"
     ]
    }
   ],
   "source": [
    "print(\"A^B\")\n",
    "a = int(input(\"Numero A: \"))\n",
    "b = int(input(\"Numero B: \"))\n",
    "while a<=0 or b<=0:\n",
    "    print(\"Los numeor tienen que ser mayores a 0\")\n",
    "    a = int(input(\"Numero A: \"))\n",
    "    b = int(input(\"Numero B \"))\n",
    "    \n",
    "cont = 1\n",
    "p = a\n",
    "print(a,end=\" \")\n",
    "while cont<b:\n",
    "    cont1 = 1\n",
    "    s = p\n",
    "    while cont1<a-1:\n",
    "        s = s+p\n",
    "        cont1+=1\n",
    "    p = p+s\n",
    "    cont+=1\n",
    "    print(p,end=\" \")\n",
    "print(\"\")\n",
    "print(f\"EL resultado es {p}\")\n"
   ]
  },
  {
   "cell_type": "markdown",
   "metadata": {},
   "source": [
    "27. La constante pi (3.1441592...) es muy utilizada en matemáticas. Un método sencillo de calcular su valor es:\n",
    "\n",
    "pi = 2 * (2/1) * (2/3) * (4/3) * (4/5) * (6/5) * (6/7) * (8/7) * (8/9) ...\n",
    "\n",
    "Escribir un programa que efectúe este cálculo con un número de términos especificando por el usuario."
   ]
  },
  {
   "cell_type": "code",
   "execution_count": 22,
   "metadata": {},
   "outputs": [
    {
     "name": "stdout",
     "output_type": "stream",
     "text": [
      "Introduzca el numero de terminos: 100000\n",
      "3.1415769558\n"
     ]
    }
   ],
   "source": [
    "n = int(input(\"Introduzca el numero de terminos: \"))\n",
    "if n<=0:\n",
    "    print(\"No se puede\")\n",
    "else:\n",
    "    res=2\n",
    "    ter=1\n",
    "    num=2\n",
    "    while ter<n-1:\n",
    "        aux=-1\n",
    "        for j in range(2):\n",
    "            res=round(res*(num/(num+aux)),10)\n",
    "            aux=aux*-1\n",
    "            ter+=1\n",
    "        num+=2\n",
    "    print(res)"
   ]
  },
  {
   "cell_type": "markdown",
   "metadata": {},
   "source": [
    "28. El valor de e x se puede aproximar por la suma:\n",
    "\n",
    "1+x+(x^2/2!)+(x^3/3!)+(x^4/4!)+...+(x^n/n!)\n",
    "\n",
    "Escribir un programa que tome un valor de x como entrada y visualice la suma para\n",
    "cada uno de los valores de 1 a 100."
   ]
  },
  {
   "cell_type": "code",
   "execution_count": 42,
   "metadata": {},
   "outputs": [
    {
     "name": "stdout",
     "output_type": "stream",
     "text": [
      "e^x = 1+x+(x^2/2!)+(x^3/3!)+(x^4/4!)+...+(x^n/n!)\n",
      "Introduzca el valor de x: 1\n",
      "1.0 | 2.0 | 2.5 | 2.66667 | 2.70833 | 2.71667 | 2.71806 | 2.71825 | 2.71828 | 2.71828 | 2.71828 | 2.71828 | 2.71828 | 2.71828 | 2.71828 | 2.71828 | 2.71828 | 2.71828 | 2.71828 | 2.71828 | 2.71828 | 2.71828 | 2.71828 | 2.71828 | 2.71828 | 2.71828 | 2.71828 | 2.71828 | 2.71828 | 2.71828 | 2.71828 | 2.71828 | 2.71828 | 2.71828 | 2.71828 | 2.71828 | 2.71828 | 2.71828 | 2.71828 | 2.71828 | 2.71828 | 2.71828 | 2.71828 | 2.71828 | 2.71828 | 2.71828 | 2.71828 | 2.71828 | 2.71828 | 2.71828 | 2.71828 | 2.71828 | 2.71828 | 2.71828 | 2.71828 | 2.71828 | 2.71828 | 2.71828 | 2.71828 | 2.71828 | 2.71828 | 2.71828 | 2.71828 | 2.71828 | 2.71828 | 2.71828 | 2.71828 | 2.71828 | 2.71828 | 2.71828 | 2.71828 | 2.71828 | 2.71828 | 2.71828 | 2.71828 | 2.71828 | 2.71828 | 2.71828 | 2.71828 | 2.71828 | 2.71828 | 2.71828 | 2.71828 | 2.71828 | 2.71828 | 2.71828 | 2.71828 | 2.71828 | 2.71828 | 2.71828 | 2.71828 | 2.71828 | 2.71828 | 2.71828 | 2.71828 | 2.71828 | 2.71828 | 2.71828 | 2.71828 | 2.71828 | \n",
      "El valor de e^1 es igual a: 2.71828\n"
     ]
    }
   ],
   "source": [
    "from math import factorial\n",
    "print(\"e^x = 1+x+(x^2/2!)+(x^3/3!)+(x^4/4!)+...+(x^n/n!)\")\n",
    "x = int(input(\"Introduzca el valor de x: \"))\n",
    "e = 0\n",
    "for i in range(100):\n",
    "    e += (x**(i)/factorial(i))\n",
    "    print(round(e,5),end=' | ')\n",
    "print(\"\")\n",
    "print(f\"El valor de e^{x} es igual a: {round(e,5)}\")"
   ]
  },
  {
   "cell_type": "markdown",
   "metadata": {},
   "source": [
    "29. Calcular la suma de todos los elementos de un vector, así como la media aritmética."
   ]
  },
  {
   "cell_type": "code",
   "execution_count": 44,
   "metadata": {},
   "outputs": [
    {
     "name": "stdout",
     "output_type": "stream",
     "text": [
      "Introducir la cantidad de elemntos del vector: 5\n",
      "Introducir el elemento 1: 1\n",
      "Introducir el elemento 2: 2\n",
      "Introducir el elemento 3: 3\n",
      "Introducir el elemento 4: 4\n",
      "Introducir el elemento 5: 5\n",
      "La suma de todos los elementos del vector es: 15\n",
      "La media aritmetica de todos los elementos del vector es: 3.0\n"
     ]
    }
   ],
   "source": [
    "n = int(input(\"Introducir la cantidad de elemntos del vector: \"))\n",
    "v = []\n",
    "for i in range(n):\n",
    "    v.append(int(input(f\"Introducir el elemento {i+1}: \")))\n",
    "print(f\"La suma de todos los elementos del vector es: {sum(v)}\")\n",
    "print(f\"La media aritmetica de todos los elementos del vector es: {sum(v)/len(v)}\")"
   ]
  },
  {
   "cell_type": "markdown",
   "metadata": {},
   "source": [
    "30. Multiplicar dos matrices."
   ]
  },
  {
   "cell_type": "code",
   "execution_count": 72,
   "metadata": {},
   "outputs": [
    {
     "name": "stdout",
     "output_type": "stream",
     "text": [
      "Introduzca el numero de filas de la matriz 1: 3\n",
      "Introduzca el numero de columnas de la matriz 1: 3\n",
      "Introduzca el numero de filas de la matriz 2: 3\n",
      "Introduzca el numero de columnas de la matriz 2: 3\n",
      "Coloque los numeros de la matriz 1:\n",
      "[0,0]: 0\n",
      "[0,1]: 0\n",
      "[0,2]: 0\n",
      "[1,0]: 0\n",
      "[1,1]: 0\n",
      "[1,2]: 0\n",
      "[2,0]: 0\n",
      "[2,1]: 0\n",
      "[2,2]: 0\n",
      "\n",
      "Matriz 1\n",
      "\n",
      " [[0 0 0]\n",
      " [0 0 0]\n",
      " [0 0 0]] \n",
      "\n",
      "Coloque los numeros de la matriz 2:\n",
      "[0,0]: 0\n",
      "[0,1]: 0\n",
      "[0,2]: 0\n",
      "[1,0]: 0\n",
      "[1,1]: 0\n",
      "[1,2]: 0\n",
      "[2,0]: 0\n",
      "[2,1]: 0\n",
      "[2,2]: 0\n",
      "\n",
      "Matriz 2\n",
      "\n",
      " [[0 0 0]\n",
      " [0 0 0]\n",
      " [0 0 0]] \n",
      "\n",
      "El producto de las matrices es:\n",
      "\n",
      "[[0 0 0]\n",
      " [0 0 0]\n",
      " [0 0 0]]\n"
     ]
    }
   ],
   "source": [
    "import numpy as np\n",
    "numf1 = int(input(\"Introduzca el numero de filas de la matriz 1: \"))\n",
    "numc1 = int(input(\"Introduzca el numero de columnas de la matriz 1: \"))\n",
    "numf2 = int(input(\"Introduzca el numero de filas de la matriz 2: \"))\n",
    "numc2 = int(input(\"Introduzca el numero de columnas de la matriz 2: \"))\n",
    "if numc1!=numf2:\n",
    "    print(\"El numero de columnas de la primera matriz debe ser igual al numero de filas de la segunda matriz.\")\n",
    "else:\n",
    "    m1 = np.array([[0]*numc1 for i in range(numf1)])\n",
    "    m2 = np.array([[0]*numc2 for i in range(numf2)])\n",
    "    \n",
    "    print(\"Coloque los numeros de la matriz 1:\")\n",
    "    for i in range(numf1):\n",
    "        for j in range(numc1):\n",
    "            m1[i,j] = int(input(f\"[{i},{j}]: \"))\n",
    "    \n",
    "    print(f\"\\nMatriz 1\")\n",
    "    print(f\"\\n {m1} \\n\")\n",
    "            \n",
    "    print(\"Coloque los numeros de la matriz 2:\")\n",
    "    for i in range(numf2):\n",
    "        for j in range(numc2):\n",
    "            m2[i,j] = int(input(f\"[{i},{j}]: \"))\n",
    "    \n",
    "    print(f\"\\nMatriz 2\")\n",
    "    print(f\"\\n {m2} \\n\")\n",
    "    \n",
    "    print(f\"El producto de las matrices es:\\n\")\n",
    "    print(np.dot(m1,m2))"
   ]
  },
  {
   "cell_type": "markdown",
   "metadata": {},
   "source": []
  }
 ],
 "metadata": {
  "kernelspec": {
   "display_name": "Python 3",
   "language": "python",
   "name": "python3"
  },
  "language_info": {
   "codemirror_mode": {
    "name": "ipython",
    "version": 3
   },
   "file_extension": ".py",
   "mimetype": "text/x-python",
   "name": "python",
   "nbconvert_exporter": "python",
   "pygments_lexer": "ipython3",
   "version": "3.7.4"
  }
 },
 "nbformat": 4,
 "nbformat_minor": 2
}
