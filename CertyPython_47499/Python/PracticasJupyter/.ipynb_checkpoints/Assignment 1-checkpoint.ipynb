{
 "cells": [
  {
   "cell_type": "markdown",
   "metadata": {},
   "source": [
    "1. Escriba un programa que lea un entero (input), lo multiplique por 3 y lo imprima."
   ]
  },
  {
   "cell_type": "code",
   "execution_count": 6,
   "metadata": {},
   "outputs": [
    {
     "name": "stdout",
     "output_type": "stream",
     "text": [
      "Escriba un numero: 4\n",
      "12\n"
     ]
    }
   ],
   "source": [
    "x=input(\"Escriba un numero: \")\n",
    "print(int(x)*3)"
   ]
  },
  {
   "cell_type": "markdown",
   "metadata": {},
   "source": [
    "2. Escribir un programa que pida al cliente la longitud y ancho de la habitación e imprima la superficie de la habitación, los valores podrán tener decimales.\n",
    "\n",
    "Formato de salida deseado: xx.yy m^2"
   ]
  },
  {
   "cell_type": "code",
   "execution_count": 7,
   "metadata": {},
   "outputs": [
    {
     "name": "stdout",
     "output_type": "stream",
     "text": [
      "Longitud: 12\n",
      "Ancho: 12\n",
      "144.0 m^2\n"
     ]
    }
   ],
   "source": [
    "l=input(\"Longitud: \")\n",
    "a=input(\"Ancho: \")\n",
    "print(float(l)*float(a),\"m^2\")"
   ]
  },
  {
   "cell_type": "markdown",
   "metadata": {},
   "source": [
    "3. Determinar el área y volumen de un cilindro cuyas dimensiones (radio - altura) se lean desde el teclado.\n",
    "\n",
    "Formato de salida deseado: xx.yy m^3"
   ]
  },
  {
   "cell_type": "code",
   "execution_count": 9,
   "metadata": {},
   "outputs": [
    {
     "name": "stdout",
     "output_type": "stream",
     "text": [
      "Radio: 5\n",
      "Altura: 5\n",
      "Volumen:  392.69908169872417  m^3\n",
      "Area:  314.1592653589793  m^2\n"
     ]
    }
   ],
   "source": [
    "from math import pi\n",
    "r=input(\"Radio: \")\n",
    "a=input(\"Altura: \")\n",
    "print(\"Volumen: \",pi*(float(r)**2)*float(a),\" m^3\")\n",
    "print(\"Area: \", 2*pi*float(r)*(float(r)+float(a)),\" m^2\")"
   ]
  },
  {
   "cell_type": "markdown",
   "metadata": {},
   "source": [
    "4. La fuerza de atracción entre dos masas m1 y m2 separadas por una distancia d, está dada por la fórmula:\n",
    "\n",
    "F = G m1 m2/d^2\n",
    "\n",
    "Donde G es la constante de gravitación universal:\n",
    "G = 6 . 673 X 10^-8 cm^3 / g * seg^2\n",
    "\n",
    "Escriba un programa que lea la masa de dos cuerpos y la distancia entre ellos y a\n",
    "continuación obtenga la fuerza gravitacional entre ella. La salida debe ser en dinas; un\n",
    "DINA es igual a g*cm/seg 2.\n",
    "\n",
    "Formato de salida deseado: xx.yy dyn"
   ]
  },
  {
   "cell_type": "code",
   "execution_count": 17,
   "metadata": {},
   "outputs": [
    {
     "name": "stdout",
     "output_type": "stream",
     "text": [
      "m1: 3\n",
      "m2: 4\n",
      "Distancia: 5\n",
      "3.20304e-08  dyn\n"
     ]
    }
   ],
   "source": [
    "m1=input(\"m1: \")\n",
    "m2=input(\"m2: \")\n",
    "d=input(\"Distancia: \")\n",
    "\n",
    "print(((6.673*10**-8) *float(m1)*float(m2))/float(d)**2,\" dyn\")"
   ]
  },
  {
   "cell_type": "markdown",
   "metadata": {},
   "source": [
    "5. La famosa ecuación de Einstein para conversión de una masa m en energía viene dada por la fórmula:\n",
    "\n",
    "E = cm^3\n",
    "c es la velocidad de la luz:\n",
    "\n",
    "c = 2 . 997925 X 10^10 m / seg\n",
    "\n",
    "Escribir un programa que lea una masa en gramos y obtenga la cantidad de energía producida cuando la masa se convierta en energía.\n",
    "\n",
    "Nota: se la masa se da en gramos, la fórmula produce la energía en ergios.\n",
    "\n",
    "Formato de salida deseado: xx.yy erg"
   ]
  },
  {
   "cell_type": "code",
   "execution_count": 18,
   "metadata": {},
   "outputs": [
    {
     "name": "stdout",
     "output_type": "stream",
     "text": [
      "Masa (en gramos): 4\n",
      "E:  1918672000000.0\n"
     ]
    }
   ],
   "source": [
    "m=input(\"Masa (en gramos): \")\n",
    "print(\"E: \", (2.997925*10**10)*float(m)**3)"
   ]
  },
  {
   "cell_type": "markdown",
   "metadata": {},
   "source": [
    "6. Escribir un programa que lea la hora en un día de notación 24 horas y escriba la respuesta en notación de 12 horas. Por ejemplo, si la entrada es 13:45, la salida será:\n",
    "\n",
    "                                            1:45 PM\n",
    "\n",
    "El programa pedirá al usuario que introduzca exactamente cinco caracteres. Así, por ejemplo, las nueve en punto se introduce como:\n",
    "\n",
    "                                            09:00"
   ]
  },
  {
   "cell_type": "code",
   "execution_count": 36,
   "metadata": {},
   "outputs": [
    {
     "name": "stdout",
     "output_type": "stream",
     "text": [
      "Introduzca la hora: 12:00\n",
      "12:00 PM\n"
     ]
    }
   ],
   "source": [
    "hora=input(\"Introduzca la hora: \")\n",
    "array=hora.split(sep=\":\")\n",
    "if int(array[0]) > 12:\n",
    "    print(str(int(array[0])-12)+\":\"+array[1], \"PM\")\n",
    "elif int(array[0]) == 12:\n",
    "    print(hora,\"PM\")\n",
    "else:\n",
    "    print(hora,\"AM\")\n"
   ]
  },
  {
   "cell_type": "markdown",
   "metadata": {},
   "source": [
    "7. Leer un número A, evaluar sucesivamente las expresiones siguientes y desplegar los resultados obtenidos en un archivo denominado “practica01.out”.\n",
    "\n",
    "B = A + 10 \\\n",
    "C = 2 * B + A \\\n",
    "D = A + B + C + 5\n",
    "\n",
    "Formato de salida deseado:\\\n",
    "Ejercicio 7.\\\n",
    "A = xx\\\n",
    "B = yy\\\n",
    "C = zz\\\n",
    "D = xyz"
   ]
  },
  {
   "cell_type": "code",
   "execution_count": 53,
   "metadata": {},
   "outputs": [
    {
     "name": "stdout",
     "output_type": "stream",
     "text": [
      "Ingrese un numero: 5\n"
     ]
    }
   ],
   "source": [
    "A=int(input(\"Ingrese un numero: \"))\n",
    "B=A+10\n",
    "C=2*B+A\n",
    "D=A+B+C+5\n",
    "print(f\"Ejercicio 7 \\nA = {A} \\nB = {B} \\nC = {C} \\nD = {D}\\n\",file=open(\"practica01.out\",\"w\"))\n"
   ]
  },
  {
   "cell_type": "markdown",
   "metadata": {},
   "source": [
    "8. Hacer leer un número X de tipo decimal, hallar su valor absoluto y decimal, desplegar el resultado dentro del archivo “practica01.out”.\\\n",
    "Formato de salida deseado:\\\n",
    "Ejercicio 8.\\\n",
    "Número: xx.yy\\\n",
    "Valor absoluto: xx\\\n",
    "Parte decimal: yy"
   ]
  },
  {
   "cell_type": "code",
   "execution_count": 61,
   "metadata": {},
   "outputs": [
    {
     "name": "stdout",
     "output_type": "stream",
     "text": [
      "Escriba un numero: -3.54\n"
     ]
    }
   ],
   "source": [
    "x=input(\"Escriba un numero: \")\n",
    "xlista=x.split(sep=\".\")\n",
    "print(f\"Ejercicio 8 \\nNumero: {x} \\nValorabsoluto: {abs(float(x))} \\nParte decimal: {xlista[1]} \\n\",file=open(\"practica01.out\",\"a\"))"
   ]
  },
  {
   "cell_type": "markdown",
   "metadata": {},
   "source": [
    "9. Leer a, b, c y d, hallar el menor y mayor de los cuatro números, desplegar su resultado en el archivo “practica01.out”."
   ]
  },
  {
   "cell_type": "code",
   "execution_count": 62,
   "metadata": {},
   "outputs": [
    {
     "name": "stdout",
     "output_type": "stream",
     "text": [
      "Numero a: 3\n",
      "Numero b: 65\n",
      "Numero c: 3\n",
      "Numero d: 676\n"
     ]
    }
   ],
   "source": [
    "a=int(input(\"Numero a: \"))\n",
    "b=int(input(\"Numero b: \"))\n",
    "c=int(input(\"Numero c: \"))\n",
    "d=int(input(\"Numero d: \"))\n",
    "\n",
    "lista=[a,b,c,d]\n",
    "print(f\"Ejercicio 9 \\nLista: {lista} \\nNumero mayor: {max(lista)} \\nNumero menor: {min(lista)}\",file=open(\"practica01.out\",\"a\"))"
   ]
  },
  {
   "cell_type": "markdown",
   "metadata": {},
   "source": [
    "10. Dado los valores de X, Y, Z, evaluar A = X^2+Y^2+Z^2. Si se cumple que, A<100 y Y<5 calcular B = (X+Y)^2 – X*Z, caso contrario calcular B = (X-Y)^2 + X*Z. Desplegar A y B en el archivo “practica01.out”"
   ]
  },
  {
   "cell_type": "code",
   "execution_count": 67,
   "metadata": {},
   "outputs": [
    {
     "name": "stdout",
     "output_type": "stream",
     "text": [
      "Numero x: 34\n",
      "Numero y: 65\n",
      "Numero z: 33\n"
     ]
    }
   ],
   "source": [
    "x=int(input(\"Numero x: \"))\n",
    "y=int(input(\"Numero y: \"))\n",
    "z=int(input(\"Numero z: \"))\n",
    "A=x**2+y**2+z**2\n",
    "if A < 100 and y < 5:\n",
    "    B=(x+y)**2-x*z\n",
    "else:\n",
    "    B=(x-y)**2+x*z\n",
    "\n",
    "print(f\"\\nEjercicio 10 \\nA = {A} \\nB = {B}\",file=open(\"practica01.out\",\"a\"))"
   ]
  },
  {
   "cell_type": "code",
   "execution_count": null,
   "metadata": {},
   "outputs": [],
   "source": []
  }
 ],
 "metadata": {
  "kernelspec": {
   "display_name": "Python 3",
   "language": "python",
   "name": "python3"
  },
  "language_info": {
   "codemirror_mode": {
    "name": "ipython",
    "version": 3
   },
   "file_extension": ".py",
   "mimetype": "text/x-python",
   "name": "python",
   "nbconvert_exporter": "python",
   "pygments_lexer": "ipython3",
   "version": "3.7.4"
  }
 },
 "nbformat": 4,
 "nbformat_minor": 2
}
